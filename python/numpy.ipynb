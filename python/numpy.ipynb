{
 "cells": [
  {
   "cell_type": "markdown",
   "id": "7e2143e3-ccd5-4e96-9176-b5cac52a840d",
   "metadata": {},
   "source": [
    "# Numpy"
   ]
  },
  {
   "cell_type": "code",
   "execution_count": 631,
   "id": "16ad61d8-28e2-4c10-9693-4fb03bef2972",
   "metadata": {},
   "outputs": [
    {
     "name": "stdout",
     "output_type": "stream",
     "text": [
      "\u001b[1m\u001b[33mwarning\u001b[39m\u001b[0m\u001b[1m:\u001b[0m \u001b[1m`VIRTUAL_ENV=/home/shadow/.cache/uv/archive-v0/rN93Qp1KZOSprE7Q01sNV` does not match the project environment path `.venv` and will be ignored\u001b[0m\n",
      "\u001b[2mResolved \u001b[1m12 packages\u001b[0m \u001b[2min 0.42ms\u001b[0m\u001b[0m\n",
      "\u001b[2mAudited \u001b[1m11 packages\u001b[0m \u001b[2min 0.00ms\u001b[0m\u001b[0m\n"
     ]
    }
   ],
   "source": [
    "!uv add numpy"
   ]
  },
  {
   "cell_type": "code",
   "execution_count": 632,
   "id": "b97c9b57-1741-4d85-ba06-62d82783f66f",
   "metadata": {},
   "outputs": [],
   "source": [
    "import numpy as np"
   ]
  },
  {
   "cell_type": "code",
   "execution_count": 633,
   "id": "c2da6af3-abea-4cb4-b26d-3a3ccc9b9e1e",
   "metadata": {},
   "outputs": [
    {
     "data": {
      "text/plain": [
       "array([1, 2, 4, 5, 6])"
      ]
     },
     "execution_count": 633,
     "metadata": {},
     "output_type": "execute_result"
    }
   ],
   "source": [
    "np.array([1,2,4,5,6])"
   ]
  },
  {
   "cell_type": "code",
   "execution_count": 634,
   "id": "cf026af5-027d-4ee6-8b47-e61c0d7f3fe6",
   "metadata": {},
   "outputs": [],
   "source": [
    "onedArray = np.array([1,2,3,4,5,6,7,8,9,0])"
   ]
  },
  {
   "cell_type": "code",
   "execution_count": 635,
   "id": "ff2b8fe6-42e4-4b94-b886-1f8046a592ff",
   "metadata": {},
   "outputs": [
    {
     "data": {
      "text/plain": [
       "array([[1, 2, 3, 4, 5],\n",
       "       [6, 7, 8, 9, 0]])"
      ]
     },
     "execution_count": 635,
     "metadata": {},
     "output_type": "execute_result"
    }
   ],
   "source": [
    "twodArray  = onedArray.reshape(2,5)\n",
    "twodArray"
   ]
  },
  {
   "cell_type": "code",
   "execution_count": 636,
   "id": "73678a52-8b11-4fff-9c93-581980d4b38f",
   "metadata": {},
   "outputs": [
    {
     "data": {
      "text/plain": [
       "array([1, 2, 3, 4, 5, 6, 7, 8, 9, 0])"
      ]
     },
     "execution_count": 636,
     "metadata": {},
     "output_type": "execute_result"
    }
   ],
   "source": [
    "convertToOnedArrayAgain= twodArray.ravel()\n",
    "convertToOnedArrayAgain"
   ]
  },
  {
   "cell_type": "code",
   "execution_count": 637,
   "id": "9a12c790-2fbb-4ffb-8911-941f7a369388",
   "metadata": {},
   "outputs": [
    {
     "data": {
      "text/plain": [
       "array([[1, 2, 3, 4, 5],\n",
       "       [6, 7, 8, 9, 0]])"
      ]
     },
     "execution_count": 637,
     "metadata": {},
     "output_type": "execute_result"
    }
   ],
   "source": [
    "twodArray"
   ]
  },
  {
   "cell_type": "code",
   "execution_count": 638,
   "id": "fec1fd3b-9cd6-4fad-9496-55a2b94a0800",
   "metadata": {},
   "outputs": [
    {
     "data": {
      "text/plain": [
       "array([1, 2, 3, 4, 5, 6, 7, 8, 9, 0])"
      ]
     },
     "execution_count": 638,
     "metadata": {},
     "output_type": "execute_result"
    }
   ],
   "source": [
    "copyToOneDArray = twodArray.flatten()\n",
    "copyToOneDArray"
   ]
  },
  {
   "cell_type": "code",
   "execution_count": 639,
   "id": "a5281ef4-ec13-45a8-aa81-34c10c334a2c",
   "metadata": {},
   "outputs": [
    {
     "data": {
      "text/plain": [
       "array([1, 2, 3, 4, 5, 6, 7, 8, 9, 0])"
      ]
     },
     "execution_count": 639,
     "metadata": {},
     "output_type": "execute_result"
    }
   ],
   "source": [
    "onedArray"
   ]
  },
  {
   "cell_type": "code",
   "execution_count": 640,
   "id": "654f5043-5f4c-4d4f-8d17-40b60cc111bc",
   "metadata": {},
   "outputs": [
    {
     "data": {
      "text/plain": [
       "array([[1, 2, 3, 4, 5],\n",
       "       [6, 7, 8, 9, 0]])"
      ]
     },
     "execution_count": 640,
     "metadata": {},
     "output_type": "execute_result"
    }
   ],
   "source": [
    "twodArray"
   ]
  },
  {
   "cell_type": "markdown",
   "id": "776f7c61-e3fd-4e18-b91d-19ec9553be96",
   "metadata": {},
   "source": [
    "## Array initialization methodsm"
   ]
  },
  {
   "cell_type": "markdown",
   "id": "65443373-a95b-409b-bc84-9c12495d9266",
   "metadata": {},
   "source": [
    "### zeros fills the x dimensinal array with zero representation for that type"
   ]
  },
  {
   "cell_type": "code",
   "execution_count": 641,
   "id": "39fd36b3-6f37-451c-801e-4c43d789c9d9",
   "metadata": {},
   "outputs": [
    {
     "data": {
      "text/plain": [
       "array([[False],\n",
       "       [False],\n",
       "       [False],\n",
       "       [False],\n",
       "       [False],\n",
       "       [False],\n",
       "       [False],\n",
       "       [False],\n",
       "       [False],\n",
       "       [False]])"
      ]
     },
     "execution_count": 641,
     "metadata": {},
     "output_type": "execute_result"
    }
   ],
   "source": [
    "np.zeros((10,1),bool)"
   ]
  },
  {
   "cell_type": "markdown",
   "id": "efe35022-36f2-45c3-8677-c8dea386d541",
   "metadata": {},
   "source": [
    "### Ones become true for bool"
   ]
  },
  {
   "cell_type": "code",
   "execution_count": 642,
   "id": "17962795-1974-4904-b702-db19afa5c18a",
   "metadata": {},
   "outputs": [
    {
     "data": {
      "text/plain": [
       "array([[ True,  True,  True,  True,  True],\n",
       "       [ True,  True,  True,  True,  True]])"
      ]
     },
     "execution_count": 642,
     "metadata": {},
     "output_type": "execute_result"
    }
   ],
   "source": [
    "np.ones((2,5), bool)"
   ]
  },
  {
   "cell_type": "markdown",
   "id": "b834fb94-8bc0-4fce-9d2a-39c8900e58cb",
   "metadata": {},
   "source": [
    "### str datatype"
   ]
  },
  {
   "cell_type": "code",
   "execution_count": 643,
   "id": "f85bec62-ff02-4093-b295-b3905209daa1",
   "metadata": {},
   "outputs": [
    {
     "data": {
      "text/plain": [
       "array([[['1', '1'],\n",
       "        ['1', '1']],\n",
       "\n",
       "       [['1', '1'],\n",
       "        ['1', '1']]], dtype='<U1')"
      ]
     },
     "execution_count": 643,
     "metadata": {},
     "output_type": "execute_result"
    }
   ],
   "source": [
    "np.ones((2,2,2), str)"
   ]
  },
  {
   "cell_type": "markdown",
   "id": "16a9ebe1-302b-437e-923a-7f3b46bb2b31",
   "metadata": {},
   "source": [
    "### fills with empty representaion for that type"
   ]
  },
  {
   "cell_type": "code",
   "execution_count": 644,
   "id": "408ad70d-0368-485a-b1ae-d6bbad8798e1",
   "metadata": {},
   "outputs": [
    {
     "data": {
      "text/plain": [
       "array([[446676598868, 493921239145]])"
      ]
     },
     "execution_count": 644,
     "metadata": {},
     "output_type": "execute_result"
    }
   ],
   "source": [
    "np.empty((1,2), int)"
   ]
  },
  {
   "cell_type": "code",
   "execution_count": 645,
   "id": "4931f157-e4d7-43bd-a872-9ccba8d48f37",
   "metadata": {},
   "outputs": [
    {
     "data": {
      "text/plain": [
       "array([ 1,  2,  3,  4,  5,  6,  7,  8,  9, 10, 11, 12, 13, 14, 15, 16, 17,\n",
       "       18, 19, 20, 21, 22, 23, 24, 25, 26, 27, 28, 29, 30, 31, 32, 33, 34,\n",
       "       35, 36, 37, 38, 39, 40, 41, 42, 43, 44, 45, 46, 47, 48, 49, 50, 51,\n",
       "       52, 53, 54, 55, 56, 57, 58, 59, 60, 61, 62, 63, 64, 65, 66, 67, 68,\n",
       "       69, 70, 71, 72, 73, 74, 75, 76, 77, 78, 79, 80, 81, 82, 83, 84, 85,\n",
       "       86, 87, 88, 89, 90, 91, 92, 93, 94, 95, 96, 97, 98, 99])"
      ]
     },
     "execution_count": 645,
     "metadata": {},
     "output_type": "execute_result"
    }
   ],
   "source": [
    "np.arange(1,100)"
   ]
  },
  {
   "cell_type": "code",
   "execution_count": 646,
   "id": "8e352afe-7ef5-4dd8-871b-853ca82bdfa9",
   "metadata": {},
   "outputs": [
    {
     "data": {
      "text/plain": [
       "array([ 1, 11, 21, 31, 41, 51, 61, 71, 81, 91])"
      ]
     },
     "execution_count": 646,
     "metadata": {},
     "output_type": "execute_result"
    }
   ],
   "source": [
    "np.arange(1,100,10)"
   ]
  },
  {
   "cell_type": "code",
   "execution_count": 647,
   "id": "184797af-f3ad-47fa-bf83-abbe5e1b5b2d",
   "metadata": {},
   "outputs": [
    {
     "data": {
      "text/plain": [
       "array([[ 1, 11],\n",
       "       [21, 31],\n",
       "       [41, 51],\n",
       "       [61, 71],\n",
       "       [81, 91]])"
      ]
     },
     "execution_count": 647,
     "metadata": {},
     "output_type": "execute_result"
    }
   ],
   "source": [
    "np.arange(1,100,10).reshape(2,5).ravel().reshape(5,2)"
   ]
  },
  {
   "cell_type": "markdown",
   "id": "4bdfaa15-f826-4e13-a505-82b46123be74",
   "metadata": {},
   "source": [
    "## Array slicing"
   ]
  },
  {
   "cell_type": "code",
   "execution_count": 648,
   "id": "a96336f4-6845-4720-b731-ddd61b634beb",
   "metadata": {},
   "outputs": [
    {
     "data": {
      "text/plain": [
       "array([[ 1,  2,  3,  4,  5],\n",
       "       [ 6,  7,  8,  9, 10],\n",
       "       [11, 12, 13, 14, 15],\n",
       "       [16, 17, 18, 19, 20],\n",
       "       [21, 22, 23, 24, 25],\n",
       "       [26, 27, 28, 29, 30],\n",
       "       [31, 32, 33, 34, 35],\n",
       "       [36, 37, 38, 39, 40],\n",
       "       [41, 42, 43, 44, 45],\n",
       "       [46, 47, 48, 49, 50]])"
      ]
     },
     "execution_count": 648,
     "metadata": {},
     "output_type": "execute_result"
    }
   ],
   "source": [
    "## Initializing and array\n",
    "arrSlice = np.arange(1,51).reshape(10,5)\n",
    "arrSlice"
   ]
  },
  {
   "cell_type": "code",
   "execution_count": 649,
   "id": "97d98bec-6ce1-4060-a801-96d490786c7a",
   "metadata": {},
   "outputs": [
    {
     "data": {
      "text/plain": [
       "array([1, 2, 3, 4, 5])"
      ]
     },
     "execution_count": 649,
     "metadata": {},
     "output_type": "execute_result"
    }
   ],
   "source": [
    "arrSlice[0]"
   ]
  },
  {
   "cell_type": "code",
   "execution_count": 650,
   "id": "a19141fa-e75d-43dc-b236-6d32e0f4d984",
   "metadata": {},
   "outputs": [
    {
     "data": {
      "text/plain": [
       "np.int64(9)"
      ]
     },
     "execution_count": 650,
     "metadata": {},
     "output_type": "execute_result"
    }
   ],
   "source": [
    "arrSlice[1][3]"
   ]
  },
  {
   "cell_type": "code",
   "execution_count": 651,
   "id": "b86f795b-175e-4cb5-8835-4f619942aada",
   "metadata": {},
   "outputs": [
    {
     "data": {
      "text/plain": [
       "array([[ 6,  7,  8,  9, 10],\n",
       "       [11, 12, 13, 14, 15]])"
      ]
     },
     "execution_count": 651,
     "metadata": {},
     "output_type": "execute_result"
    }
   ],
   "source": [
    "arrSlice[1:3]"
   ]
  },
  {
   "cell_type": "code",
   "execution_count": 652,
   "id": "eef64356-8498-456b-a28f-e0a53128a73b",
   "metadata": {},
   "outputs": [
    {
     "data": {
      "text/plain": [
       "array([[ 6,  7,  8,  9, 10],\n",
       "       [11, 12, 13, 14, 15],\n",
       "       [16, 17, 18, 19, 20],\n",
       "       [21, 22, 23, 24, 25],\n",
       "       [26, 27, 28, 29, 30],\n",
       "       [31, 32, 33, 34, 35],\n",
       "       [36, 37, 38, 39, 40],\n",
       "       [41, 42, 43, 44, 45],\n",
       "       [46, 47, 48, 49, 50]])"
      ]
     },
     "execution_count": 652,
     "metadata": {},
     "output_type": "execute_result"
    }
   ],
   "source": [
    "arrSlice[1:100000] # this will give all the element and not error out"
   ]
  },
  {
   "cell_type": "code",
   "execution_count": 653,
   "id": "a562d1fb-d951-476b-8a0c-f38b230534df",
   "metadata": {},
   "outputs": [
    {
     "data": {
      "text/plain": [
       "np.int64(8)"
      ]
     },
     "execution_count": 653,
     "metadata": {},
     "output_type": "execute_result"
    }
   ],
   "source": [
    "arrSlice[1,2]"
   ]
  },
  {
   "cell_type": "markdown",
   "id": "095633a9-e4c1-4250-aabd-34d9c638a737",
   "metadata": {},
   "source": [
    "### Instead of accessing the element using multiple '[]' you can use [x,y,z] format to get the element of the array "
   ]
  },
  {
   "cell_type": "code",
   "execution_count": 654,
   "id": "9e327fa9-76b4-41b0-a47f-88b7e363a7cd",
   "metadata": {},
   "outputs": [
    {
     "data": {
      "text/plain": [
       "np.int64(18)"
      ]
     },
     "execution_count": 654,
     "metadata": {},
     "output_type": "execute_result"
    }
   ],
   "source": [
    "np.arange(1,28).reshape(3,3,3)[1,2,2]"
   ]
  },
  {
   "cell_type": "code",
   "execution_count": 655,
   "id": "74c3b6cb-e072-4114-94fd-e2da8c52cb59",
   "metadata": {},
   "outputs": [
    {
     "data": {
      "text/plain": [
       "array([ 2,  5,  8, 11, 14, 17, 20, 23, 26])"
      ]
     },
     "execution_count": 655,
     "metadata": {},
     "output_type": "execute_result"
    }
   ],
   "source": [
    "np.arange(1,28).reshape(3,3,3)[:,:,1].ravel() ## array all the centers from the inner subarray"
   ]
  },
  {
   "cell_type": "code",
   "execution_count": 656,
   "id": "a82f5536-1223-4c04-871c-c99fca784868",
   "metadata": {},
   "outputs": [
    {
     "data": {
      "text/plain": [
       "dtype('int64')"
      ]
     },
     "execution_count": 656,
     "metadata": {},
     "output_type": "execute_result"
    }
   ],
   "source": [
    "np.arange(1,28).reshape(3,3,3)[:,:,1].ravel().dtype"
   ]
  },
  {
   "cell_type": "code",
   "execution_count": 657,
   "id": "30e9a985-ffc5-4ee0-ad0f-b3712ac36e28",
   "metadata": {},
   "outputs": [
    {
     "data": {
      "text/plain": [
       "numpy.dtypes.Int64DType"
      ]
     },
     "execution_count": 657,
     "metadata": {},
     "output_type": "execute_result"
    }
   ],
   "source": [
    "type(np.arange(1,28).reshape(3,3,3)[:,:,1].ravel().dtype)"
   ]
  },
  {
   "cell_type": "markdown",
   "id": "f4c614ca-bb59-43a4-ba75-685110c104c6",
   "metadata": {},
   "source": [
    "## Mathematical Operations"
   ]
  },
  {
   "cell_type": "code",
   "execution_count": 658,
   "id": "0a07ad64-e780-4d1f-b755-3f4b52395812",
   "metadata": {},
   "outputs": [
    {
     "data": {
      "text/plain": [
       "(array([[ 1,  2,  3,  4,  5,  6,  7,  8,  9, 10],\n",
       "        [11, 12, 13, 14, 15, 16, 17, 18, 19, 20]]),\n",
       " array([[ 1,  2,  3,  4,  5,  6,  7,  8,  9, 10]]))"
      ]
     },
     "execution_count": 658,
     "metadata": {},
     "output_type": "execute_result"
    }
   ],
   "source": [
    "arr1 = np.arange(1,21).reshape(2,10)\n",
    "arr2 = np.arange(1,11).reshape(1,10)\n",
    "arr1, arr2"
   ]
  },
  {
   "cell_type": "markdown",
   "id": "a33a679d-7c76-48d1-92b6-27b90f43af62",
   "metadata": {},
   "source": [
    "### Add smaller array into bigger array"
   ]
  },
  {
   "cell_type": "code",
   "execution_count": 659,
   "id": "e20eaa36-2874-468f-8749-97357857cd29",
   "metadata": {},
   "outputs": [
    {
     "data": {
      "text/plain": [
       "array([[ 2,  4,  6,  8, 10, 12, 14, 16, 18, 20],\n",
       "       [12, 14, 16, 18, 20, 22, 24, 26, 28, 30]])"
      ]
     },
     "execution_count": 659,
     "metadata": {},
     "output_type": "execute_result"
    }
   ],
   "source": [
    "arr1 + arr2"
   ]
  },
  {
   "cell_type": "code",
   "execution_count": 660,
   "id": "4c5e914c-5060-4240-a755-0f1c5da777da",
   "metadata": {},
   "outputs": [
    {
     "data": {
      "text/plain": [
       "array([[ 0,  0,  0,  0,  0,  0,  0,  0,  0,  0],\n",
       "       [10, 10, 10, 10, 10, 10, 10, 10, 10, 10]])"
      ]
     },
     "execution_count": 660,
     "metadata": {},
     "output_type": "execute_result"
    }
   ],
   "source": [
    "arr1 - arr2"
   ]
  },
  {
   "cell_type": "code",
   "execution_count": 661,
   "id": "9f863d87-6387-457f-8059-d32483fa34c3",
   "metadata": {},
   "outputs": [
    {
     "data": {
      "text/plain": [
       "array([[  1,   4,   9,  16,  25,  36,  49,  64,  81, 100],\n",
       "       [ 11,  24,  39,  56,  75,  96, 119, 144, 171, 200]])"
      ]
     },
     "execution_count": 661,
     "metadata": {},
     "output_type": "execute_result"
    }
   ],
   "source": [
    "arr1 * arr2 ## this is a simple multiplication and not a cross multiplication of the matrix"
   ]
  },
  {
   "cell_type": "code",
   "execution_count": 662,
   "id": "0b0bf890-8810-4aa3-9f52-79c83661dfa7",
   "metadata": {},
   "outputs": [
    {
     "data": {
      "text/plain": [
       "array([[  1,   4,   9,  16,  25,  36,  49,  64,  81, 100],\n",
       "       [ 11,  24,  39,  56,  75,  96, 119, 144, 171, 200]])"
      ]
     },
     "execution_count": 662,
     "metadata": {},
     "output_type": "execute_result"
    }
   ],
   "source": [
    "np.multiply(arr1, arr2)"
   ]
  },
  {
   "cell_type": "code",
   "execution_count": 663,
   "id": "86ada191-8878-453a-82b9-09ea3d043249",
   "metadata": {},
   "outputs": [
    {
     "data": {
      "text/plain": [
       "array([[ 1.        ,  1.        ,  1.        ,  1.        ,  1.        ,\n",
       "         1.        ,  1.        ,  1.        ,  1.        ,  1.        ],\n",
       "       [11.        ,  6.        ,  4.33333333,  3.5       ,  3.        ,\n",
       "         2.66666667,  2.42857143,  2.25      ,  2.11111111,  2.        ]])"
      ]
     },
     "execution_count": 663,
     "metadata": {},
     "output_type": "execute_result"
    }
   ],
   "source": [
    "arr1 / arr2"
   ]
  },
  {
   "cell_type": "code",
   "execution_count": 664,
   "id": "dfbb0d2a-8150-4213-8e09-9b3c39065e38",
   "metadata": {},
   "outputs": [
    {
     "data": {
      "text/plain": [
       "array([[ 1.        ,  1.        ,  1.        ,  1.        ,  1.        ,\n",
       "         1.        ,  1.        ,  1.        ,  1.        ,  1.        ],\n",
       "       [11.        ,  6.        ,  4.33333333,  3.5       ,  3.        ,\n",
       "         2.66666667,  2.42857143,  2.25      ,  2.11111111,  2.        ]])"
      ]
     },
     "execution_count": 664,
     "metadata": {},
     "output_type": "execute_result"
    }
   ],
   "source": [
    "np.divide(arr1, arr2)"
   ]
  },
  {
   "cell_type": "markdown",
   "id": "407dd952-183b-47d7-af64-011ccadd59e3",
   "metadata": {},
   "source": [
    "### Cross multiplication"
   ]
  },
  {
   "cell_type": "code",
   "execution_count": 665,
   "id": "b10efd52-0bd3-417e-9c5a-cf32ff844381",
   "metadata": {},
   "outputs": [
    {
     "data": {
      "text/plain": [
       "array([[ 13,  16,  19,  22,  25],\n",
       "       [ 27,  34,  41,  48,  55],\n",
       "       [ 41,  52,  63,  74,  85],\n",
       "       [ 55,  70,  85, 100, 115],\n",
       "       [ 69,  88, 107, 126, 145]])"
      ]
     },
     "execution_count": 665,
     "metadata": {},
     "output_type": "execute_result"
    }
   ],
   "source": [
    "oneArr = np.arange(1,11).reshape(5,2)\n",
    "twoArr = np.arange(1,11).reshape(2,5)\n",
    "oneArr@twoArr ## this will the cross multiplication result"
   ]
  },
  {
   "cell_type": "code",
   "execution_count": 666,
   "id": "dbc54b0a-7f8c-4979-85ba-f9870ef4fc4d",
   "metadata": {},
   "outputs": [
    {
     "data": {
      "text/plain": [
       "array([[ 13,  16,  19,  22,  25],\n",
       "       [ 27,  34,  41,  48,  55],\n",
       "       [ 41,  52,  63,  74,  85],\n",
       "       [ 55,  70,  85, 100, 115],\n",
       "       [ 69,  88, 107, 126, 145]])"
      ]
     },
     "execution_count": 666,
     "metadata": {},
     "output_type": "execute_result"
    }
   ],
   "source": [
    "oneArr.dot(twoArr)"
   ]
  },
  {
   "cell_type": "code",
   "execution_count": 667,
   "id": "434f5f30-8235-4dd0-99d7-22002037bd8a",
   "metadata": {},
   "outputs": [
    {
     "data": {
      "text/plain": [
       "np.int64(1)"
      ]
     },
     "execution_count": 667,
     "metadata": {},
     "output_type": "execute_result"
    }
   ],
   "source": [
    "oneArr.min()"
   ]
  },
  {
   "cell_type": "code",
   "execution_count": 668,
   "id": "3eaeb6f7-6f9a-4a59-b6a7-d5648af809d1",
   "metadata": {},
   "outputs": [
    {
     "data": {
      "text/plain": [
       "np.int64(10)"
      ]
     },
     "execution_count": 668,
     "metadata": {},
     "output_type": "execute_result"
    }
   ],
   "source": [
    "oneArr.max()"
   ]
  },
  {
   "cell_type": "code",
   "execution_count": 669,
   "id": "cc08dc8a-811f-4be0-ab66-3bb321163568",
   "metadata": {},
   "outputs": [
    {
     "data": {
      "text/plain": [
       "np.float64(5.5)"
      ]
     },
     "execution_count": 669,
     "metadata": {},
     "output_type": "execute_result"
    }
   ],
   "source": [
    " oneArr.mean()"
   ]
  },
  {
   "cell_type": "code",
   "execution_count": 670,
   "id": "8d2a348f-8551-478e-9b0a-5d9573e2e918",
   "metadata": {},
   "outputs": [
    {
     "data": {
      "text/plain": [
       "np.int64(55)"
      ]
     },
     "execution_count": 670,
     "metadata": {},
     "output_type": "execute_result"
    }
   ],
   "source": [
    " oneArr.sum()"
   ]
  },
  {
   "cell_type": "code",
   "execution_count": 671,
   "id": "de11a4ed-ba37-4d3b-8116-97e834052470",
   "metadata": {},
   "outputs": [
    {
     "data": {
      "text/plain": [
       "np.float64(2.8722813232690143)"
      ]
     },
     "execution_count": 671,
     "metadata": {},
     "output_type": "execute_result"
    }
   ],
   "source": [
    " oneArr.std() ## standard deviation"
   ]
  },
  {
   "cell_type": "code",
   "execution_count": 672,
   "id": "aa97fb57-5e8b-4bd5-b122-5bbf0514e5be",
   "metadata": {},
   "outputs": [
    {
     "data": {
      "text/plain": [
       "np.int64(9)"
      ]
     },
     "execution_count": 672,
     "metadata": {},
     "output_type": "execute_result"
    }
   ],
   "source": [
    " oneArr.argmax()"
   ]
  },
  {
   "cell_type": "code",
   "execution_count": 673,
   "id": "b35b6e84-3084-47bc-8b58-9066864ea100",
   "metadata": {},
   "outputs": [
    {
     "data": {
      "text/plain": [
       "np.int64(0)"
      ]
     },
     "execution_count": 673,
     "metadata": {},
     "output_type": "execute_result"
    }
   ],
   "source": [
    " oneArr.argmin()"
   ]
  },
  {
   "cell_type": "code",
   "execution_count": 674,
   "id": "be3ab7c9-7919-40e3-9ae8-1127d8fe2364",
   "metadata": {},
   "outputs": [
    {
     "data": {
      "text/plain": [
       "array([25, 30])"
      ]
     },
     "execution_count": 674,
     "metadata": {},
     "output_type": "execute_result"
    }
   ],
   "source": [
    "np.sum(oneArr, axis=0)"
   ]
  },
  {
   "cell_type": "code",
   "execution_count": 675,
   "id": "c94ae1d0-4785-4508-bbf9-da8df5c4a241",
   "metadata": {},
   "outputs": [
    {
     "data": {
      "text/plain": [
       "array([[1.        , 1.41421356],\n",
       "       [1.73205081, 2.        ],\n",
       "       [2.23606798, 2.44948974],\n",
       "       [2.64575131, 2.82842712],\n",
       "       [3.        , 3.16227766]])"
      ]
     },
     "execution_count": 675,
     "metadata": {},
     "output_type": "execute_result"
    }
   ],
   "source": [
    "np.sqrt(oneArr)"
   ]
  },
  {
   "cell_type": "code",
   "execution_count": 676,
   "id": "55ec44b5-b45e-4521-b5ee-214becc01683",
   "metadata": {},
   "outputs": [
    {
     "data": {
      "text/plain": [
       "array([[0.        , 0.69314718],\n",
       "       [1.09861229, 1.38629436],\n",
       "       [1.60943791, 1.79175947],\n",
       "       [1.94591015, 2.07944154],\n",
       "       [2.19722458, 2.30258509]])"
      ]
     },
     "execution_count": 676,
     "metadata": {},
     "output_type": "execute_result"
    }
   ],
   "source": [
    "np.log(oneArr)"
   ]
  },
  {
   "cell_type": "markdown",
   "id": "43716a95-b800-41a1-b24b-1fcaad5df808",
   "metadata": {},
   "source": [
    "## Trigonometry\n",
    "\n",
    "Utilizing the matplotlib to create diagrams of the curve"
   ]
  },
  {
   "cell_type": "code",
   "execution_count": 677,
   "id": "ae9fd2d3-ac04-4e1f-82d2-c29cf2bc5f03",
   "metadata": {},
   "outputs": [
    {
     "name": "stdout",
     "output_type": "stream",
     "text": [
      "\u001b[1m\u001b[33mwarning\u001b[39m\u001b[0m\u001b[1m:\u001b[0m \u001b[1m`VIRTUAL_ENV=/home/shadow/.cache/uv/archive-v0/rN93Qp1KZOSprE7Q01sNV` does not match the project environment path `.venv` and will be ignored\u001b[0m\n",
      "\u001b[2mResolved \u001b[1m12 packages\u001b[0m \u001b[2min 0.47ms\u001b[0m\u001b[0m\n",
      "\u001b[2mAudited \u001b[1m11 packages\u001b[0m \u001b[2min 0.00ms\u001b[0m\u001b[0m\n"
     ]
    }
   ],
   "source": [
    "!uv add matplotlib"
   ]
  },
  {
   "cell_type": "code",
   "execution_count": 678,
   "id": "c72e8eec-4ca0-4059-8500-41eb51167228",
   "metadata": {},
   "outputs": [],
   "source": [
    "import matplotlib.pyplot as plt"
   ]
  },
  {
   "cell_type": "code",
   "execution_count": 679,
   "id": "a3d19cd0-dfa5-4e50-8fc7-bd1bbfb9cc23",
   "metadata": {},
   "outputs": [
    {
     "data": {
      "text/plain": [
       "3.141592653589793"
      ]
     },
     "execution_count": 679,
     "metadata": {},
     "output_type": "execute_result"
    }
   ],
   "source": [
    "np.pi"
   ]
  },
  {
   "cell_type": "code",
   "execution_count": 680,
   "id": "f05454eb-4a30-45f2-baa6-c0ee031c466c",
   "metadata": {},
   "outputs": [
    {
     "data": {
      "text/plain": [
       "np.float64(1.0)"
      ]
     },
     "execution_count": 680,
     "metadata": {},
     "output_type": "execute_result"
    }
   ],
   "source": [
    "np.sin(np.pi/2)"
   ]
  },
  {
   "cell_type": "code",
   "execution_count": 681,
   "id": "2c5e0843-4e6b-4520-9af1-082fe6b1e89a",
   "metadata": {},
   "outputs": [
    {
     "data": {
      "text/plain": [
       "np.float64(6.123233995736766e-17)"
      ]
     },
     "execution_count": 681,
     "metadata": {},
     "output_type": "execute_result"
    }
   ],
   "source": [
    "np.cos(np.pi/2)"
   ]
  },
  {
   "cell_type": "code",
   "execution_count": 682,
   "id": "89868afa-226f-4bd1-8980-45e142189abe",
   "metadata": {},
   "outputs": [
    {
     "data": {
      "text/plain": [
       "np.float64(1.633123935319537e+16)"
      ]
     },
     "execution_count": 682,
     "metadata": {},
     "output_type": "execute_result"
    }
   ],
   "source": [
    "np.tan(np.pi/2)"
   ]
  },
  {
   "cell_type": "code",
   "execution_count": 683,
   "id": "632c333d-91ad-48e6-8464-98a4fdd4e3db",
   "metadata": {},
   "outputs": [
    {
     "data": {
      "text/plain": [
       "np.float64(0.0)"
      ]
     },
     "execution_count": 683,
     "metadata": {},
     "output_type": "execute_result"
    }
   ],
   "source": [
    "np.tan(0)"
   ]
  },
  {
   "cell_type": "code",
   "execution_count": 684,
   "id": "e6c5ff87-d421-43bf-b58d-92cdcf04e11b",
   "metadata": {},
   "outputs": [
    {
     "data": {
      "text/plain": [
       "[<matplotlib.lines.Line2D at 0x70b9bc4c2de0>]"
      ]
     },
     "execution_count": 684,
     "metadata": {},
     "output_type": "execute_result"
    },
    {
     "data": {
      "image/png": "[encoded data removed]",
      "text/plain": [
       "<Figure size 600x600 with 1 Axes>"
      ]
     },
     "metadata": {},
     "output_type": "display_data"
    }
   ],
   "source": [
    "x = np.arange(1,21)\n",
    "y = np.arange(1,21)\n",
    "\n",
    "plt.figure(figsize = (6,6))\n",
    "plt.plot(x, y, 'r--') ## automatically shown"
   ]
  },
  {
   "cell_type": "code",
   "execution_count": 685,
   "id": "e1af1d06-4e10-482d-a3a1-6c292ee87e94",
   "metadata": {},
   "outputs": [
    {
     "data": {
      "text/plain": [
       "array([ 0.        ,  0.04997917,  0.09983342,  0.14943813,  0.19866933,\n",
       "        0.24740396,  0.29552021,  0.34289781,  0.38941834,  0.43496553,\n",
       "        0.47942554,  0.52268723,  0.56464247,  0.60518641,  0.64421769,\n",
       "        0.68163876,  0.71735609,  0.75128041,  0.78332691,  0.8134155 ,\n",
       "        0.84147098,  0.86742323,  0.89120736,  0.91276394,  0.93203909,\n",
       "        0.94898462,  0.96355819,  0.97572336,  0.98544973,  0.99271299,\n",
       "        0.99749499,  0.99978376,  0.9995736 ,  0.99686503,  0.99166481,\n",
       "        0.98398595,  0.97384763,  0.9612752 ,  0.94630009,  0.92895972,\n",
       "        0.90929743,  0.88736237,  0.86320937,  0.83689879,  0.8084964 ,\n",
       "        0.7780732 ,  0.74570521,  0.71147335,  0.67546318,  0.6377647 ,\n",
       "        0.59847214,  0.55768372,  0.51550137,  0.47203054,  0.42737988,\n",
       "        0.38166099,  0.33498815,  0.28747801,  0.23924933,  0.19042265,\n",
       "        0.14112001,  0.09146464,  0.04158066, -0.00840725, -0.05837414,\n",
       "       -0.10819513, -0.15774569, -0.20690197, -0.2555411 , -0.30354151,\n",
       "       -0.35078323, -0.39714817, -0.44252044, -0.48678665, -0.52983614,\n",
       "       -0.57156132, -0.61185789, -0.65062514, -0.68776616, -0.72318812,\n",
       "       -0.7568025 , -0.78852525, -0.81827711, -0.8459837 , -0.87157577,\n",
       "       -0.89498936, -0.91616594, -0.93505258, -0.95160207, -0.96577306,\n",
       "       -0.97753012, -0.98684386, -0.993691  , -0.99805444, -0.99992326,\n",
       "       -0.99929279, -0.99616461, -0.99054654, -0.98245261, -0.97190307,\n",
       "       -0.95892427, -0.94354867, -0.92581468, -0.90576664, -0.88345466,\n",
       "       -0.85893449, -0.83226744, -0.80352016, -0.77276449, -0.74007731,\n",
       "       -0.70554033, -0.66923986, -0.63126664, -0.59171558, -0.55068554,\n",
       "       -0.50827908, -0.46460218, -0.41976402, -0.37387666, -0.32705481,\n",
       "       -0.2794155 , -0.23107779, -0.1821625 , -0.13279191, -0.0830894 ,\n",
       "       -0.03317922])"
      ]
     },
     "execution_count": 685,
     "metadata": {},
     "output_type": "execute_result"
    }
   ],
   "source": [
    "x_pi_range  = np.arange(0, 2*np.pi,0.05)\n",
    "y_sin = np.sin(x_pi_range)\n",
    "y_sin"
   ]
  },
  {
   "cell_type": "code",
   "execution_count": 686,
   "id": "55ed5ef6-c654-4164-85e1-25fb1714eaed",
   "metadata": {},
   "outputs": [
    {
     "data": {
      "image/png": "[encoded data removed]",
      "text/plain": [
       "<Figure size 640x480 with 1 Axes>"
      ]
     },
     "metadata": {},
     "output_type": "display_data"
    }
   ],
   "source": [
    "plt.title(\"sin curve\")\n",
    "# plt.figure(figsize=(6,6))\n",
    "plt.plot(x_pi_range,y_sin,\"g--\")\n",
    "plt.show()"
   ]
  },
  {
   "cell_type": "code",
   "execution_count": 687,
   "id": "260bc5a7-fa86-46e6-916b-431378a097c0",
   "metadata": {},
   "outputs": [
    {
     "data": {
      "image/png": "[encoded data removed]",
      "text/plain": [
       "<Figure size 640x480 with 1 Axes>"
      ]
     },
     "metadata": {},
     "output_type": "display_data"
    }
   ],
   "source": [
    "y_cos = np.cos(x_pi_range)\n",
    "plt.title(\"cos wave\")\n",
    "plt.plot(x_pi_range, y_cos, \"b--\")\n",
    "plt.show()"
   ]
  },
  {
   "cell_type": "code",
   "execution_count": 688,
   "id": "07dd320f-baae-43e9-a4cd-350bf731f35c",
   "metadata": {},
   "outputs": [
    {
     "data": {
      "image/png": "[encoded data removed]",
      "text/plain": [
       "<Figure size 640x480 with 1 Axes>"
      ]
     },
     "metadata": {},
     "output_type": "display_data"
    }
   ],
   "source": [
    "y_tan = np.tan(x_pi_range)\n",
    "plt.title(\"Tan wave\")\n",
    "plt.plot(x_pi_range, y_tan, \"b--\")\n",
    "plt.show()"
   ]
  },
  {
   "cell_type": "code",
   "execution_count": 689,
   "id": "e7011855-a810-4702-84d3-717de11cf63c",
   "metadata": {},
   "outputs": [
    {
     "name": "stderr",
     "output_type": "stream",
     "text": [
      "/tmp/ipykernel_31243/3324461169.py:1: RuntimeWarning: divide by zero encountered in divide\n",
      "  y_cot = 1/y_tan\n"
     ]
    },
    {
     "data": {
      "image/png": "[encoded data removed]",
      "text/plain": [
       "<Figure size 640x480 with 1 Axes>"
      ]
     },
     "metadata": {},
     "output_type": "display_data"
    }
   ],
   "source": [
    "y_cot = 1/y_tan\n",
    "plt.title(\"cot wave\")\n",
    "plt.plot(x_pi_range, y_cot, \"b--\")\n",
    "plt.show()"
   ]
  },
  {
   "cell_type": "code",
   "execution_count": 690,
   "id": "0d9f6fcd-7bac-49e1-ac5a-00e027cd07a6",
   "metadata": {},
   "outputs": [
    {
     "data": {
      "image/png": "[encoded data removed]",
      "text/plain": [
       "<Figure size 600x600 with 5 Axes>"
      ]
     },
     "metadata": {},
     "output_type": "display_data"
    }
   ],
   "source": [
    "plt.figure(figsize=(6,6))\n",
    "\n",
    "plt.title(\"subplot\")\n",
    "plt.subplot(2,2,1)\n",
    "plt.title(\"sin\")\n",
    "plt.plot(x_pi_range,y_sin)\n",
    "\n",
    "plt.subplot(2,2,2)\n",
    "plt.title(\"cos\")\n",
    "plt.plot(x_pi_range,y_cos)\n",
    "\n",
    "\n",
    "plt.subplot(2,2,3)\n",
    "plt.title(\"tan\")\n",
    "plt.plot(x_pi_range,y_tan)\n",
    "\n",
    "\n",
    "plt.subplot(2,2,4)\n",
    "plt.title(\"cot\")\n",
    "plt.title(\"subplot\")\n",
    "plt.subplot(2,2,1)\n",
    "plt.plot(x_pi_range,y_cos)\n",
    "plt.plot(x_pi_range,y_cot)\n",
    "\n",
    "plt.show()"
   ]
  },
  {
   "cell_type": "markdown",
   "id": "28be4343-a8fc-4f7f-9ff8-c037034477e1",
   "metadata": {},
   "source": [
    "## Random "
   ]
  },
  {
   "cell_type": "markdown",
   "id": "19a615fb-d6f5-4ad5-9420-7b9949bf4c59",
   "metadata": {},
   "source": [
    "### Generate random float' array"
   ]
  },
  {
   "cell_type": "code",
   "execution_count": 691,
   "id": "55b47dc4-3656-4e4e-921a-66829af73ef9",
   "metadata": {},
   "outputs": [
    {
     "data": {
      "text/plain": [
       "array([[0.64505496, 0.28534209],\n",
       "       [0.25136726, 0.67281594]])"
      ]
     },
     "execution_count": 691,
     "metadata": {},
     "output_type": "execute_result"
    }
   ],
   "source": [
    "np.random.random((2,2))"
   ]
  },
  {
   "cell_type": "code",
   "execution_count": 692,
   "id": "2fa1177d-266b-4fdd-817c-f777a7f44872",
   "metadata": {},
   "outputs": [
    {
     "data": {
      "text/plain": [
       "array([0.5714286])"
      ]
     },
     "execution_count": 692,
     "metadata": {},
     "output_type": "execute_result"
    }
   ],
   "source": [
    "np.random.random(1)"
   ]
  },
  {
   "cell_type": "markdown",
   "id": "3a07c781-5061-40cf-8fc1-d52d3a1e33ba",
   "metadata": {},
   "source": [
    "### Generate single random integer"
   ]
  },
  {
   "cell_type": "code",
   "execution_count": 693,
   "id": "cb2e8a2b-04f4-4dd4-918a-b622d3c1af9b",
   "metadata": {},
   "outputs": [
    {
     "data": {
      "text/plain": [
       "2"
      ]
     },
     "execution_count": 693,
     "metadata": {},
     "output_type": "execute_result"
    }
   ],
   "source": [
    "np.random.randint(1,10)"
   ]
  },
  {
   "cell_type": "markdown",
   "id": "873f44f1-1b10-4f51-b426-1bb5ed4f02fd",
   "metadata": {},
   "source": [
    "### Generate a random integers' array"
   ]
  },
  {
   "cell_type": "code",
   "execution_count": 694,
   "id": "0cd669cd-d23e-43ab-a3a3-6a2a7274b7b0",
   "metadata": {},
   "outputs": [
    {
     "data": {
      "text/plain": [
       "array([[8, 8, 8, 2],\n",
       "       [9, 9, 4, 7],\n",
       "       [6, 3, 6, 4]])"
      ]
     },
     "execution_count": 694,
     "metadata": {},
     "output_type": "execute_result"
    }
   ],
   "source": [
    "np.random.randint(1,10,(3,4))"
   ]
  },
  {
   "cell_type": "markdown",
   "id": "d243f049-3000-470d-a7ef-9f8804b707a7",
   "metadata": {},
   "source": [
    "### Generate a negative floats array"
   ]
  },
  {
   "cell_type": "code",
   "execution_count": 695,
   "id": "b0af0d36-4615-4b07-a0c0-6925157ce7bd",
   "metadata": {},
   "outputs": [
    {
     "data": {
      "text/plain": [
       "array([[-0.63849165, -0.8754443 ,  0.53069537, -1.32313543, -0.65178959,\n",
       "        -0.68887457, -0.54297117,  2.12826758, -0.16474245,  1.45621958]])"
      ]
     },
     "execution_count": 695,
     "metadata": {},
     "output_type": "execute_result"
    }
   ],
   "source": [
    "np.random.randn(1,10)"
   ]
  },
  {
   "cell_type": "markdown",
   "id": "efaf2b55-f615-4a96-af69-21be144c1f8e",
   "metadata": {},
   "source": [
    "### Choose from an array"
   ]
  },
  {
   "cell_type": "code",
   "execution_count": 696,
   "id": "3be84ffd-864c-4819-994c-5443b68155d6",
   "metadata": {},
   "outputs": [
    {
     "data": {
      "text/plain": [
       "np.int64(9)"
      ]
     },
     "execution_count": 696,
     "metadata": {},
     "output_type": "execute_result"
    }
   ],
   "source": [
    "np.random.choice(np.arange(1,10))"
   ]
  },
  {
   "cell_type": "markdown",
   "id": "b73a1db4-3c73-43ca-9202-9284e22e1c7d",
   "metadata": {},
   "source": [
    "## Strings"
   ]
  },
  {
   "cell_type": "code",
   "execution_count": 697,
   "id": "e2433f33-9443-4025-906a-0dce15fcbb38",
   "metadata": {},
   "outputs": [],
   "source": [
    "s1 = \"This is the first string\"\n",
    "s2 = \"This is the second string\"\n",
    "s3 = '''\n",
    "this is the first sentence\n",
    "thsi is the second sentence\n",
    "this is the third sentence\n",
    "this is the fourth sentence\n",
    "this is the fifth sentence\n",
    "this is the sixth sentence\n",
    "this is the seventh sentence\n",
    "'''"
   ]
  },
  {
   "cell_type": "code",
   "execution_count": 698,
   "id": "44f5f0ee-a4bc-495d-9e4f-00d5e1ef3970",
   "metadata": {},
   "outputs": [
    {
     "data": {
      "text/plain": [
       "np.str_('This is the first stringThis is the second string')"
      ]
     },
     "execution_count": 698,
     "metadata": {},
     "output_type": "execute_result"
    }
   ],
   "source": [
    "np.char.add(s1,s2)"
   ]
  },
  {
   "cell_type": "code",
   "execution_count": 699,
   "id": "fdc21f79-bddd-4cee-b2f6-f4fa98164cbf",
   "metadata": {},
   "outputs": [
    {
     "data": {
      "text/plain": [
       "array('THIS IS THE FIRST STRING', dtype='<U24')"
      ]
     },
     "execution_count": 699,
     "metadata": {},
     "output_type": "execute_result"
    }
   ],
   "source": [
    "np.char.upper(s1)"
   ]
  },
  {
   "cell_type": "code",
   "execution_count": 700,
   "id": "e8158018-184a-4637-ac0f-2a61a47fc8ee",
   "metadata": {},
   "outputs": [
    {
     "data": {
      "text/plain": [
       "array('this is the second string', dtype='<U25')"
      ]
     },
     "execution_count": 700,
     "metadata": {},
     "output_type": "execute_result"
    }
   ],
   "source": [
    "np.char.lower(s2)"
   ]
  },
  {
   "cell_type": "code",
   "execution_count": 701,
   "id": "efdbb220-411d-4ce9-9fa5-3d0a292ea20d",
   "metadata": {},
   "outputs": [
    {
     "data": {
      "text/plain": [
       "'This is the second string'"
      ]
     },
     "execution_count": 701,
     "metadata": {},
     "output_type": "execute_result"
    }
   ],
   "source": [
    "s2"
   ]
  },
  {
   "cell_type": "code",
   "execution_count": 702,
   "id": "897fc06c-c0f1-4b1f-bc9c-5d807e4117d8",
   "metadata": {},
   "outputs": [
    {
     "data": {
      "text/plain": [
       "array(list(['This is ', 'he firs', ' s', 'ring']), dtype=object)"
      ]
     },
     "execution_count": 702,
     "metadata": {},
     "output_type": "execute_result"
    }
   ],
   "source": [
    "np.char.split(s1, sep=\"t\") ## default seperator is <space>"
   ]
  },
  {
   "cell_type": "code",
   "execution_count": 703,
   "id": "6acc5b65-079c-47ec-9d99-291cebb8209e",
   "metadata": {},
   "outputs": [
    {
     "data": {
      "text/plain": [
       "array(list(['', 'this is the first sentence', 'thsi is the second sentence', 'this is the third sentence', 'this is the fourth sentence', 'this is the fifth sentence', 'this is the sixth sentence', 'this is the seventh sentence']),\n",
       "      dtype=object)"
      ]
     },
     "execution_count": 703,
     "metadata": {},
     "output_type": "execute_result"
    }
   ],
   "source": [
    "np.char.splitlines(s3)"
   ]
  },
  {
   "cell_type": "code",
   "execution_count": 704,
   "id": "f6d87ab4-8abf-4690-9442-de5f38390abc",
   "metadata": {},
   "outputs": [
    {
     "data": {
      "text/plain": [
       "array('not this is the first string', dtype='<U28')"
      ]
     },
     "execution_count": 704,
     "metadata": {},
     "output_type": "execute_result"
    }
   ],
   "source": [
    "np.char.replace(s1,\"This\", \"not this\")"
   ]
  },
  {
   "cell_type": "code",
   "execution_count": 705,
   "id": "e55fbf01-80fd-46b6-900b-9f86a2736c9c",
   "metadata": {},
   "outputs": [
    {
     "data": {
      "text/plain": [
       "array('***************************thank you for reading this***************************',\n",
       "      dtype='<U80')"
      ]
     },
     "execution_count": 705,
     "metadata": {},
     "output_type": "execute_result"
    }
   ],
   "source": [
    "np.char.center(\"thank you for reading this\", 80, \"*\")"
   ]
  },
  {
   "cell_type": "code",
   "execution_count": null,
   "id": "b69ceb12-f86d-4aa5-a8b6-d9d8ebd5ea44",
   "metadata": {},
   "outputs": [],
   "source": [
    "## Reference:\n",
    "Data Analysis and Visualization for Beginners https://youtube.com/playlist?list=PL9n0l8rSshSnragNblKDBsT8Xu3otp3jA"
   ]
  }
 ],
 "metadata": {
  "kernelspec": {
   "display_name": "Python 3 (ipykernel)",
   "language": "python",
   "name": "python3"
  },
  "language_info": {
   "codemirror_mode": {
    "name": "ipython",
    "version": 3
   },
   "file_extension": ".py",
   "mimetype": "text/x-python",
   "name": "python",
   "nbconvert_exporter": "python",
   "pygments_lexer": "ipython3",
   "version": "3.12.8"
  }
 },
 "nbformat": 4,
 "nbformat_minor": 5
}
